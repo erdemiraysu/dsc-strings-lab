{
 "cells": [
  {
   "cell_type": "markdown",
   "id": "1825fe35-393d-49ec-b0c8-2b220d79575c",
   "metadata": {},
   "source": [
    "## This is my new notebook"
   ]
  },
  {
   "cell_type": "code",
   "execution_count": null,
   "id": "70514f69-8877-471a-96d1-2f55df4d4ed8",
   "metadata": {},
   "outputs": [],
   "source": []
  }
 ],
 "metadata": {
  "kernelspec": {
   "display_name": "Python 3 (ipykernel)",
   "language": "python",
   "name": "python3"
  },
  "language_info": {
   "codemirror_mode": {
    "name": "ipython",
    "version": 3
   },
   "file_extension": ".py",
   "mimetype": "text/x-python",
   "name": "python",
   "nbconvert_exporter": "python",
   "pygments_lexer": "ipython3",
   "version": "3.11.7"
  }
 },
 "nbformat": 4,
 "nbformat_minor": 5
}
